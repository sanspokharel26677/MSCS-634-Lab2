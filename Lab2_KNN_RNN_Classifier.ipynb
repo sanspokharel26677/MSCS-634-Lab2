{
 "cells": [
  {
   "cell_type": "markdown",
   "id": "8cd575f2-0988-4fef-b4dc-7e8d29b19d27",
   "metadata": {},
   "source": [
    "# Lab 2: Classification Using KNN and RNN Algorithms  \n",
    "**Name:** Sandesh Pokharel  \n",
    "**Course:** MSCS-634-B01 – Advanced Big Data and Data Mining  \n",
    "**Date:** July 20, 2025  "
   ]
  },
  {
   "cell_type": "markdown",
   "id": "fba5b6eb-2643-4951-9210-c87b9d74d3e5",
   "metadata": {},
   "source": [
    "## Lab Overview  \n",
    "In this lab, we will classify the Wine dataset using two algorithms:  \n",
    "- K-Nearest Neighbors (KNN)  \n",
    "- Radius Neighbors (RNN)  \n",
    "\n",
    "We will compare their classification accuracy across various parameters to determine the optimal settings and provide insights based on our findings."
   ]
  },
  {
   "cell_type": "code",
   "execution_count": 1,
   "id": "1ce13e67-ebe2-4c63-8d84-972cbd4550d5",
   "metadata": {},
   "outputs": [],
   "source": [
    "# Importing required libraries\n",
    "import numpy as np\n",
    "import pandas as pd\n",
    "import matplotlib.pyplot as plt\n",
    "import seaborn as sns\n",
    "\n",
    "from sklearn.datasets import load_wine\n",
    "from sklearn.model_selection import train_test_split\n",
    "from sklearn.preprocessing import StandardScaler\n",
    "from sklearn.neighbors import KNeighborsClassifier, RadiusNeighborsClassifier\n",
    "from sklearn.metrics import accuracy_score\n",
    "\n",
    "# Set plot style\n",
    "sns.set(style=\"whitegrid\")"
   ]
  },
  {
   "cell_type": "code",
   "execution_count": 2,
   "id": "1a8c866c-f56b-4afe-85b7-5631b9ca9905",
   "metadata": {},
   "outputs": [
    {
     "data": {
      "text/html": [
       "<div>\n",
       "<style scoped>\n",
       "    .dataframe tbody tr th:only-of-type {\n",
       "        vertical-align: middle;\n",
       "    }\n",
       "\n",
       "    .dataframe tbody tr th {\n",
       "        vertical-align: top;\n",
       "    }\n",
       "\n",
       "    .dataframe thead th {\n",
       "        text-align: right;\n",
       "    }\n",
       "</style>\n",
       "<table border=\"1\" class=\"dataframe\">\n",
       "  <thead>\n",
       "    <tr style=\"text-align: right;\">\n",
       "      <th></th>\n",
       "      <th>alcohol</th>\n",
       "      <th>malic_acid</th>\n",
       "      <th>ash</th>\n",
       "      <th>alcalinity_of_ash</th>\n",
       "      <th>magnesium</th>\n",
       "      <th>total_phenols</th>\n",
       "      <th>flavanoids</th>\n",
       "      <th>nonflavanoid_phenols</th>\n",
       "      <th>proanthocyanins</th>\n",
       "      <th>color_intensity</th>\n",
       "      <th>hue</th>\n",
       "      <th>od280/od315_of_diluted_wines</th>\n",
       "      <th>proline</th>\n",
       "      <th>target</th>\n",
       "    </tr>\n",
       "  </thead>\n",
       "  <tbody>\n",
       "    <tr>\n",
       "      <th>0</th>\n",
       "      <td>14.23</td>\n",
       "      <td>1.71</td>\n",
       "      <td>2.43</td>\n",
       "      <td>15.6</td>\n",
       "      <td>127.0</td>\n",
       "      <td>2.80</td>\n",
       "      <td>3.06</td>\n",
       "      <td>0.28</td>\n",
       "      <td>2.29</td>\n",
       "      <td>5.64</td>\n",
       "      <td>1.04</td>\n",
       "      <td>3.92</td>\n",
       "      <td>1065.0</td>\n",
       "      <td>0</td>\n",
       "    </tr>\n",
       "    <tr>\n",
       "      <th>1</th>\n",
       "      <td>13.20</td>\n",
       "      <td>1.78</td>\n",
       "      <td>2.14</td>\n",
       "      <td>11.2</td>\n",
       "      <td>100.0</td>\n",
       "      <td>2.65</td>\n",
       "      <td>2.76</td>\n",
       "      <td>0.26</td>\n",
       "      <td>1.28</td>\n",
       "      <td>4.38</td>\n",
       "      <td>1.05</td>\n",
       "      <td>3.40</td>\n",
       "      <td>1050.0</td>\n",
       "      <td>0</td>\n",
       "    </tr>\n",
       "    <tr>\n",
       "      <th>2</th>\n",
       "      <td>13.16</td>\n",
       "      <td>2.36</td>\n",
       "      <td>2.67</td>\n",
       "      <td>18.6</td>\n",
       "      <td>101.0</td>\n",
       "      <td>2.80</td>\n",
       "      <td>3.24</td>\n",
       "      <td>0.30</td>\n",
       "      <td>2.81</td>\n",
       "      <td>5.68</td>\n",
       "      <td>1.03</td>\n",
       "      <td>3.17</td>\n",
       "      <td>1185.0</td>\n",
       "      <td>0</td>\n",
       "    </tr>\n",
       "    <tr>\n",
       "      <th>3</th>\n",
       "      <td>14.37</td>\n",
       "      <td>1.95</td>\n",
       "      <td>2.50</td>\n",
       "      <td>16.8</td>\n",
       "      <td>113.0</td>\n",
       "      <td>3.85</td>\n",
       "      <td>3.49</td>\n",
       "      <td>0.24</td>\n",
       "      <td>2.18</td>\n",
       "      <td>7.80</td>\n",
       "      <td>0.86</td>\n",
       "      <td>3.45</td>\n",
       "      <td>1480.0</td>\n",
       "      <td>0</td>\n",
       "    </tr>\n",
       "    <tr>\n",
       "      <th>4</th>\n",
       "      <td>13.24</td>\n",
       "      <td>2.59</td>\n",
       "      <td>2.87</td>\n",
       "      <td>21.0</td>\n",
       "      <td>118.0</td>\n",
       "      <td>2.80</td>\n",
       "      <td>2.69</td>\n",
       "      <td>0.39</td>\n",
       "      <td>1.82</td>\n",
       "      <td>4.32</td>\n",
       "      <td>1.04</td>\n",
       "      <td>2.93</td>\n",
       "      <td>735.0</td>\n",
       "      <td>0</td>\n",
       "    </tr>\n",
       "  </tbody>\n",
       "</table>\n",
       "</div>"
      ],
      "text/plain": [
       "   alcohol  malic_acid   ash  alcalinity_of_ash  magnesium  total_phenols  \\\n",
       "0    14.23        1.71  2.43               15.6      127.0           2.80   \n",
       "1    13.20        1.78  2.14               11.2      100.0           2.65   \n",
       "2    13.16        2.36  2.67               18.6      101.0           2.80   \n",
       "3    14.37        1.95  2.50               16.8      113.0           3.85   \n",
       "4    13.24        2.59  2.87               21.0      118.0           2.80   \n",
       "\n",
       "   flavanoids  nonflavanoid_phenols  proanthocyanins  color_intensity   hue  \\\n",
       "0        3.06                  0.28             2.29             5.64  1.04   \n",
       "1        2.76                  0.26             1.28             4.38  1.05   \n",
       "2        3.24                  0.30             2.81             5.68  1.03   \n",
       "3        3.49                  0.24             2.18             7.80  0.86   \n",
       "4        2.69                  0.39             1.82             4.32  1.04   \n",
       "\n",
       "   od280/od315_of_diluted_wines  proline  target  \n",
       "0                          3.92   1065.0       0  \n",
       "1                          3.40   1050.0       0  \n",
       "2                          3.17   1185.0       0  \n",
       "3                          3.45   1480.0       0  \n",
       "4                          2.93    735.0       0  "
      ]
     },
     "execution_count": 2,
     "metadata": {},
     "output_type": "execute_result"
    }
   ],
   "source": [
    "# Load the built-in Wine dataset from sklearn\n",
    "from sklearn.datasets import load_wine\n",
    "\n",
    "# Load the dataset into variables\n",
    "wine_data = load_wine()\n",
    "\n",
    "# Extract features (X) and target labels (y)\n",
    "X = wine_data.data\n",
    "y = wine_data.target\n",
    "\n",
    "# Create a DataFrame for easier exploration and visualization\n",
    "import pandas as pd\n",
    "df = pd.DataFrame(X, columns=wine_data.feature_names)\n",
    "\n",
    "# Add the target labels as a new column to the DataFrame\n",
    "df['target'] = y\n",
    "\n",
    "# Display the first few rows of the dataset\n",
    "df.head()"
   ]
  },
  {
   "cell_type": "markdown",
   "id": "fc62a75d-5d5a-4644-9805-e7a40d501365",
   "metadata": {},
   "source": [
    "## Dataset Overview\n",
    "\n",
    "The Wine dataset contains 178 samples and 13 chemical attributes used to classify wines into three cultivars (target classes: 0, 1, 2).  \n",
    "We display the first few rows to understand the structure and confirm the data loaded successfully."
   ]
  },
  {
   "cell_type": "code",
   "execution_count": 3,
   "id": "3ebe1f73-922c-4ff7-a08c-c674025c2356",
   "metadata": {},
   "outputs": [
    {
     "data": {
      "text/plain": [
       "target\n",
       "1    71\n",
       "0    59\n",
       "2    48\n",
       "Name: count, dtype: int64"
      ]
     },
     "execution_count": 3,
     "metadata": {},
     "output_type": "execute_result"
    }
   ],
   "source": [
    "# Count the number of samples in each class to check class balance\n",
    "df['target'].value_counts()"
   ]
  },
  {
   "cell_type": "markdown",
   "id": "471b47eb-91a2-4cd1-8e38-9822f360550f",
   "metadata": {},
   "source": [
    "## Class Distribution\n",
    "\n",
    "The dataset has a reasonably balanced distribution across the three wine classes.  \n",
    "This ensures that classification performance will not be skewed heavily by class imbalance."
   ]
  },
  {
   "cell_type": "code",
   "execution_count": 4,
   "id": "b598c0dc-549a-4064-a578-80a393eca006",
   "metadata": {},
   "outputs": [],
   "source": [
    "from sklearn.model_selection import train_test_split\n",
    "from sklearn.preprocessing import StandardScaler\n",
    "\n",
    "# Split the dataset into training (80%) and testing (20%) sets\n",
    "# stratify=y ensures class distribution remains consistent across sets\n",
    "X_train, X_test, y_train, y_test = train_test_split(\n",
    "    X, y, test_size=0.2, random_state=42, stratify=y\n",
    ")\n",
    "\n",
    "# Initialize a StandardScaler to normalize feature values\n",
    "scaler = StandardScaler()\n",
    "\n",
    "# Fit the scaler only on the training data and transform both sets\n",
    "X_train_scaled = scaler.fit_transform(X_train)\n",
    "X_test_scaled = scaler.transform(X_test)"
   ]
  },
  {
   "cell_type": "markdown",
   "id": "22a301a9-e763-4731-9a7b-6045de19a947",
   "metadata": {},
   "source": [
    "## Data Preprocessing\n",
    "\n",
    "The dataset was split into 80% training and 20% testing sets, using stratified sampling to preserve class balance.\n",
    "\n",
    "All feature values were standardized using `StandardScaler`, which transforms features to have a mean of 0 and a standard deviation of 1. This scaling is essential for distance-based algorithms like KNN and RNN to perform accurately, as unscaled features can bias distance calculations."
   ]
  },
  {
   "cell_type": "code",
   "execution_count": 5,
   "id": "1c8b9d92-5034-4933-8458-f53ceb7f63ef",
   "metadata": {},
   "outputs": [
    {
     "name": "stdout",
     "output_type": "stream",
     "text": [
      "k=1 → Accuracy: 0.9722\n",
      "k=5 → Accuracy: 0.9722\n",
      "k=11 → Accuracy: 1.0000\n",
      "k=15 → Accuracy: 1.0000\n",
      "k=21 → Accuracy: 1.0000\n"
     ]
    }
   ],
   "source": [
    "from sklearn.neighbors import KNeighborsClassifier\n",
    "from sklearn.metrics import accuracy_score\n",
    "\n",
    "# List of k values to evaluate\n",
    "k_values = [1, 5, 11, 15, 21]\n",
    "knn_accuracies = []\n",
    "\n",
    "# Loop through each k, train and evaluate model\n",
    "for k in k_values:\n",
    "    # Initialize KNN with current k value\n",
    "    knn = KNeighborsClassifier(n_neighbors=k)\n",
    "    \n",
    "    # Train the model on the scaled training data\n",
    "    knn.fit(X_train_scaled, y_train)\n",
    "    \n",
    "    # Predict on the scaled test data\n",
    "    y_pred = knn.predict(X_test_scaled)\n",
    "    \n",
    "    # Calculate and store accuracy\n",
    "    accuracy = accuracy_score(y_test, y_pred)\n",
    "    knn_accuracies.append(accuracy)\n",
    "    \n",
    "    # Print accuracy for each k (for reference)\n",
    "    print(f\"k={k} → Accuracy: {accuracy:.4f}\")"
   ]
  },
  {
   "cell_type": "code",
   "execution_count": 6,
   "id": "e5f14d8f-70a9-4cb3-acac-7c51bba9fb5e",
   "metadata": {},
   "outputs": [
    {
     "data": {
      "image/png": "[encoded data removed]",
      "text/plain": [
       "<Figure size 800x500 with 1 Axes>"
      ]
     },
     "metadata": {},
     "output_type": "display_data"
    }
   ],
   "source": [
    "import matplotlib.pyplot as plt\n",
    "\n",
    "# Plot KNN accuracy vs. k values\n",
    "plt.figure(figsize=(8, 5))\n",
    "plt.plot(k_values, knn_accuracies, marker='o', linestyle='-')\n",
    "plt.title(\"KNN Accuracy for Different k Values\")\n",
    "plt.xlabel(\"Number of Neighbors (k)\")\n",
    "plt.ylabel(\"Accuracy\")\n",
    "plt.xticks(k_values)\n",
    "plt.grid(True)\n",
    "plt.show()"
   ]
  },
  {
   "cell_type": "markdown",
   "id": "bfa33834-c2f9-40f7-b62d-7a1688024725",
   "metadata": {},
   "source": [
    "### KNN Model Performance Analysis\n",
    "\n",
    "The plot illustrates how accuracy varies with different values of *k* in the K-Nearest Neighbors model.\n",
    "\n",
    "We observe:\n",
    "- Accuracy improves significantly from k=1 to k=11.\n",
    "- From k=11 onward, the model achieves perfect accuracy (1.0), indicating that moderate to higher k-values generalize well for this dataset.\n",
    "- k=1 and k=5 slightly underperform, possibly due to sensitivity to noise or overfitting to local variations.\n",
    "\n",
    "This trend shows that a slightly higher k (e.g., 11 or 15) balances bias and variance well for the Wine dataset."
   ]
  },
  {
   "cell_type": "markdown",
   "id": "eead6b3a-9427-4d3a-aebe-e26ae5febee5",
   "metadata": {},
   "source": [
    "## Radius Neighbors (RNN) Classifier\n",
    "\n",
    "In this section, we will implement the Radius Neighbors Classifier (RNN) to evaluate its performance on the Wine dataset.\n",
    "\n",
    "Unlike KNN, which uses a fixed number of neighbors (k), the RNN algorithm classifies data points based on all training samples within a specified radius. If no neighbors are found within that radius, the classifier may return an error or assign the label -1.\n",
    "\n",
    "We will test various radius values to observe how this hyperparameter affects classification accuracy. This will help us understand how sensitive RNN is to radius selection compared to KNN's k-value tuning."
   ]
  },
  {
   "cell_type": "code",
   "execution_count": 7,
   "id": "33ae31a7-6240-4201-a5f1-f43d1fa11f08",
   "metadata": {},
   "outputs": [
    {
     "name": "stdout",
     "output_type": "stream",
     "text": [
      "Radius = 350 → Accuracy: 0.3889\n",
      "Radius = 400 → Accuracy: 0.3889\n",
      "Radius = 450 → Accuracy: 0.3889\n",
      "Radius = 500 → Accuracy: 0.3889\n",
      "Radius = 550 → Accuracy: 0.3889\n",
      "Radius = 600 → Accuracy: 0.3889\n"
     ]
    }
   ],
   "source": [
    "from sklearn.neighbors import RadiusNeighborsClassifier\n",
    "from sklearn.metrics import accuracy_score\n",
    "\n",
    "# Define a list of radius values to test\n",
    "radius_values = [350, 400, 450, 500, 550, 600]\n",
    "rnn_accuracies = []\n",
    "\n",
    "# Iterate through each radius value\n",
    "for radius in radius_values:\n",
    "    try:\n",
    "        # Initialize Radius Neighbors Classifier with current radius\n",
    "        rnn = RadiusNeighborsClassifier(radius=radius)\n",
    "        \n",
    "        # Fit the model on training data\n",
    "        rnn.fit(X_train_scaled, y_train)\n",
    "        \n",
    "        # Predict labels for test data\n",
    "        y_pred = rnn.predict(X_test_scaled)\n",
    "        \n",
    "        # Calculate and store the accuracy\n",
    "        accuracy = accuracy_score(y_test, y_pred)\n",
    "        rnn_accuracies.append(accuracy)\n",
    "        \n",
    "        # Print result for each radius\n",
    "        print(f\"Radius = {radius} → Accuracy: {accuracy:.4f}\")\n",
    "        \n",
    "    except ValueError as e:\n",
    "        # Handle cases where the radius is too small or large to find any neighbors\n",
    "        print(f\"Radius = {radius} → Failed: {e}\")\n",
    "        rnn_accuracies.append(0)  # Use 0 to indicate failure in accuracy list"
   ]
  },
  {
   "cell_type": "code",
   "execution_count": 8,
   "id": "98633fd5-d46f-426e-b075-c9176c8b2cca",
   "metadata": {},
   "outputs": [
    {
     "data": {
      "image/png": "[encoded data removed]",
      "text/plain": [
       "<Figure size 800x500 with 1 Axes>"
      ]
     },
     "metadata": {},
     "output_type": "display_data"
    }
   ],
   "source": [
    "# Plot RNN accuracy across different radius values\n",
    "plt.figure(figsize=(8, 5))\n",
    "plt.plot(radius_values, rnn_accuracies, marker='o', linestyle='-', color='orange')\n",
    "plt.title(\"RNN Accuracy for Different Radius Values\")\n",
    "plt.xlabel(\"Radius\")\n",
    "plt.ylabel(\"Accuracy\")\n",
    "plt.xticks(radius_values)\n",
    "plt.grid(True)\n",
    "plt.show()"
   ]
  },
  {
   "cell_type": "markdown",
   "id": "66b53ccf-bfb8-49d7-b659-2973ed763708",
   "metadata": {},
   "source": [
    "### RNN Model Performance Analysis\n",
    "\n",
    "The plot shows that the Radius Neighbors Classifier yields a **constant accuracy of 0.3889** across all tested radius values (350 to 600).  \n",
    "\n",
    "This lack of variation suggests that:\n",
    "- The selected radius values are **not effectively altering the neighborhood scope**, or\n",
    "- The model may be **assigning the same fallback prediction (e.g., -1 or most frequent class)** due to poorly tuned radii.\n",
    "\n",
    "This also highlights a key weakness of the RNN approach:\n",
    "- It’s highly sensitive to the choice of radius.\n",
    "- Unlike KNN, which guarantees a fixed number of neighbors, RNN may fail to classify if no neighbors are found within the radius, leading to poor or default predictions.\n",
    "\n",
    "In this case, KNN significantly outperforms RNN, making it the more reliable choice for this dataset."
   ]
  },
  {
   "cell_type": "markdown",
   "id": "4b1a0fbf-0aa8-4139-8ba4-df76051aee7c",
   "metadata": {},
   "source": [
    "## Final Comparison: KNN vs. RNN\n",
    "\n",
    "After evaluating both classifiers on the Wine dataset, we can draw the following insights:\n",
    "\n",
    "- **KNN (K-Nearest Neighbors):**\n",
    "  - Achieved very high accuracy, peaking at **100%** for k values of 11, 15, and 21.\n",
    "  - Performed consistently across different k values, showing robustness.\n",
    "  - Easy to tune and interpret, making it a strong choice for this dataset.\n",
    "\n",
    "- **RNN (Radius Neighbors):**\n",
    "  - Accuracy remained flat at **0.3889** for all radius values tested.\n",
    "  - The classifier likely failed to find optimal radius ranges or defaulted to poor predictions.\n",
    "  - This highlights how sensitive RNN is to radius selection and how it can underperform when radius is poorly chosen.\n",
    "\n",
    "### Conclusion:\n",
    "KNN significantly outperformed RNN in terms of both accuracy and stability.  \n",
    "For this dataset, **KNN is clearly the more effective and reliable classification method**."
   ]
  },
  {
   "cell_type": "code",
   "execution_count": 9,
   "id": "b4d28521-3c3d-461c-883a-7143bb007c64",
   "metadata": {},
   "outputs": [
    {
     "data": {
      "image/png": "[encoded data removed]",
      "text/plain": [
       "<Figure size 1000x600 with 1 Axes>"
      ]
     },
     "metadata": {},
     "output_type": "display_data"
    }
   ],
   "source": [
    "# Plotting KNN vs RNN accuracy side by side for visual comparison\n",
    "\n",
    "plt.figure(figsize=(10, 6))\n",
    "plt.plot(k_values, knn_accuracies, marker='o', linestyle='-', label='KNN Accuracy')\n",
    "plt.plot(radius_values, rnn_accuracies, marker='s', linestyle='--', label='RNN Accuracy')\n",
    "\n",
    "plt.title(\"KNN vs RNN Classification Accuracy\")\n",
    "plt.xlabel(\"k / radius\")\n",
    "plt.ylabel(\"Accuracy\")\n",
    "plt.xticks(k_values + radius_values)\n",
    "plt.legend()\n",
    "plt.grid(True)\n",
    "plt.show()"
   ]
  },
  {
   "cell_type": "code",
   "execution_count": 10,
   "id": "4a04f582-23d9-4819-af75-4aca1718a757",
   "metadata": {},
   "outputs": [],
   "source": [
    "def evaluate_knn_model(X_train, X_test, y_train, y_test, k_values):\n",
    "    accuracies = []\n",
    "    for k in k_values:\n",
    "        model = KNeighborsClassifier(n_neighbors=k)\n",
    "        model.fit(X_train, y_train)\n",
    "        y_pred = model.predict(X_test)\n",
    "        acc = accuracy_score(y_test, y_pred)\n",
    "        accuracies.append(acc)\n",
    "    return accuracies\n",
    "\n",
    "def evaluate_rnn_model(X_train, X_test, y_train, y_test, radius_values):\n",
    "    accuracies = []\n",
    "    for r in radius_values:\n",
    "        try:\n",
    "            model = RadiusNeighborsClassifier(radius=r)\n",
    "            model.fit(X_train, y_train)\n",
    "            y_pred = model.predict(X_test)\n",
    "            acc = accuracy_score(y_test, y_pred)\n",
    "        except ValueError:\n",
    "            acc = 0\n",
    "        accuracies.append(acc)\n",
    "    return accuracies"
   ]
  },
  {
   "cell_type": "code",
   "execution_count": 11,
   "id": "bd07ea9a-9f27-4f0a-b197-5242aac3f416",
   "metadata": {},
   "outputs": [],
   "source": [
    "knn_accuracies = evaluate_knn_model(X_train_scaled, X_test_scaled, y_train, y_test, k_values)\n",
    "rnn_accuracies = evaluate_rnn_model(X_train_scaled, X_test_scaled, y_train, y_test, radius_values)"
   ]
  },
  {
   "cell_type": "code",
   "execution_count": null,
   "id": "62f0256e-be7d-4dd1-bf0a-95ba5b7e1b1e",
   "metadata": {},
   "outputs": [],
   "source": []
  }
 ],
 "metadata": {
  "kernelspec": {
   "display_name": "Python 3 (ipykernel)",
   "language": "python",
   "name": "python3"
  },
  "language_info": {
   "codemirror_mode": {
    "name": "ipython",
    "version": 3
   },
   "file_extension": ".py",
   "mimetype": "text/x-python",
   "name": "python",
   "nbconvert_exporter": "python",
   "pygments_lexer": "ipython3",
   "version": "3.13.4"
  }
 },
 "nbformat": 4,
 "nbformat_minor": 5
}
